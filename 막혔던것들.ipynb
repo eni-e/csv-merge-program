{
 "cells": [
  {
   "cell_type": "code",
   "execution_count": 1,
   "metadata": {},
   "outputs": [],
   "source": [
    "import pandas as pd"
   ]
  },
  {
   "cell_type": "markdown",
   "metadata": {},
   "source": [
    "# read_csv 사용시\n",
    "1_column 은 왠만하면 list 형태로 먼저 선언한 후, 지정한다. \\\n",
    "    (행별 열 수가 같지 않을때 parser 오류발생(error_bad_lines=False 로 해결되는 경우도 있음) \\\n",
    "2_구분자(delimiter) 두개라면 sep=\":|,\" 이런 형태로 python 정규표현식(Regex) 에 맞게 작성한다."
   ]
  },
  {
   "cell_type": "code",
   "execution_count": 2,
   "metadata": {},
   "outputs": [],
   "source": [
    "my_cols=list(range(100)) #넉넉히"
   ]
  },
  {
   "cell_type": "code",
   "execution_count": 3,
   "metadata": {
    "collapsed": true
   },
   "outputs": [
    {
     "ename": "FileNotFoundError",
     "evalue": "[Errno 2] No such file or directory: '(파일이름)'",
     "output_type": "error",

    }
   ],
   "source": [
    "df=pd.read_csv(\"(파일이름)\", sep=\":|,\" , engine='python', error_bad_lines=False, names=my_cols)"
   ]
  },
  {
   "cell_type": "code",
   "execution_count": null,
   "metadata": {},
   "outputs": [],
   "source": []
  },
  {
   "cell_type": "code",
   "execution_count": null,
   "metadata": {},
   "outputs": [],
   "source": []
  },
  {
   "cell_type": "code",
   "execution_count": null,
   "metadata": {},
   "outputs": [],
   "source": []
  }
 ],
 "metadata": {
  "kernelspec": {
   "display_name": "Python 3",
   "language": "python",
   "name": "python3"
  },
  "language_info": {
   "codemirror_mode": {
    "name": "ipython",
    "version": 3
   },
   "file_extension": ".py",
   "mimetype": "text/x-python",
   "name": "python",
   "nbconvert_exporter": "python",
   "pygments_lexer": "ipython3",
   "version": "3.9.1"
  }
 },
 "nbformat": 4,
 "nbformat_minor": 4
}
